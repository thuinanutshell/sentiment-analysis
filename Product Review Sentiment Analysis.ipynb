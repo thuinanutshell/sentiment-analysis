{
 "cells": [
  {
   "cell_type": "code",
   "execution_count": 156,
   "id": "8e996a65",
   "metadata": {},
   "outputs": [],
   "source": [
    "import pandas as pd\n",
    "import numpy as np\n",
    "import matplotlib.pyplot as plt\n",
    "import seaborn as sns\n",
    "import nltk\n",
    "import re"
   ]
  },
  {
   "cell_type": "code",
   "execution_count": 157,
   "id": "1a612861",
   "metadata": {},
   "outputs": [],
   "source": [
    "from sklearn.feature_extraction.text import CountVectorizer\n",
    "from sklearn.naive_bayes import MultinomialNB\n",
    "from nltk.corpus import stopwords\n",
    "from nltk.stem import SnowballStemmer, WordNetLemmatizer"
   ]
  },
  {
   "cell_type": "markdown",
   "id": "abb95030",
   "metadata": {},
   "source": [
    "# Loading Data"
   ]
  },
  {
   "cell_type": "code",
   "execution_count": 158,
   "id": "78817cd1",
   "metadata": {},
   "outputs": [
    {
     "data": {
      "text/html": [
       "<div>\n",
       "<style scoped>\n",
       "    .dataframe tbody tr th:only-of-type {\n",
       "        vertical-align: middle;\n",
       "    }\n",
       "\n",
       "    .dataframe tbody tr th {\n",
       "        vertical-align: top;\n",
       "    }\n",
       "\n",
       "    .dataframe thead th {\n",
       "        text-align: right;\n",
       "    }\n",
       "</style>\n",
       "<table border=\"1\" class=\"dataframe\">\n",
       "  <thead>\n",
       "    <tr style=\"text-align: right;\">\n",
       "      <th></th>\n",
       "      <th>id</th>\n",
       "      <th>asins</th>\n",
       "      <th>brand</th>\n",
       "      <th>categories</th>\n",
       "      <th>colors</th>\n",
       "      <th>dateadded</th>\n",
       "      <th>dateupdated</th>\n",
       "      <th>dimension</th>\n",
       "      <th>ean</th>\n",
       "      <th>keys</th>\n",
       "      <th>...</th>\n",
       "      <th>reviews_rating</th>\n",
       "      <th>reviews_sourceurls</th>\n",
       "      <th>reviews_text</th>\n",
       "      <th>reviews_title</th>\n",
       "      <th>reviews_usercity</th>\n",
       "      <th>reviews_userprovince</th>\n",
       "      <th>reviews_username</th>\n",
       "      <th>sizes</th>\n",
       "      <th>upc</th>\n",
       "      <th>weight</th>\n",
       "    </tr>\n",
       "  </thead>\n",
       "  <tbody>\n",
       "    <tr>\n",
       "      <th>0</th>\n",
       "      <td>AVpe7AsMilAPnD_xQ78G</td>\n",
       "      <td>B00QJDU3KY</td>\n",
       "      <td>Amazon</td>\n",
       "      <td>Amazon Devices,mazon.co.uk</td>\n",
       "      <td>NaN</td>\n",
       "      <td>2016-03-08T20:21:53Z</td>\n",
       "      <td>2017-07-18T23:52:58Z</td>\n",
       "      <td>169 mm x 117 mm x 9.1 mm</td>\n",
       "      <td>NaN</td>\n",
       "      <td>kindlepaperwhite/b00qjdu3ky</td>\n",
       "      <td>...</td>\n",
       "      <td>5.0</td>\n",
       "      <td>https://www.amazon.com/Kindle-Paperwhite-High-...</td>\n",
       "      <td>I initially had trouble deciding between the p...</td>\n",
       "      <td>Paperwhite voyage, no regrets!</td>\n",
       "      <td>NaN</td>\n",
       "      <td>NaN</td>\n",
       "      <td>Cristina M</td>\n",
       "      <td>NaN</td>\n",
       "      <td>NaN</td>\n",
       "      <td>205 grams</td>\n",
       "    </tr>\n",
       "    <tr>\n",
       "      <th>1</th>\n",
       "      <td>AVpe7AsMilAPnD_xQ78G</td>\n",
       "      <td>B00QJDU3KY</td>\n",
       "      <td>Amazon</td>\n",
       "      <td>Amazon Devices,mazon.co.uk</td>\n",
       "      <td>NaN</td>\n",
       "      <td>2016-03-08T20:21:53Z</td>\n",
       "      <td>2017-07-18T23:52:58Z</td>\n",
       "      <td>169 mm x 117 mm x 9.1 mm</td>\n",
       "      <td>NaN</td>\n",
       "      <td>kindlepaperwhite/b00qjdu3ky</td>\n",
       "      <td>...</td>\n",
       "      <td>5.0</td>\n",
       "      <td>https://www.amazon.com/Kindle-Paperwhite-High-...</td>\n",
       "      <td>Allow me to preface this with a little history...</td>\n",
       "      <td>One Simply Could Not Ask For More</td>\n",
       "      <td>NaN</td>\n",
       "      <td>NaN</td>\n",
       "      <td>Ricky</td>\n",
       "      <td>NaN</td>\n",
       "      <td>NaN</td>\n",
       "      <td>205 grams</td>\n",
       "    </tr>\n",
       "    <tr>\n",
       "      <th>2</th>\n",
       "      <td>AVpe7AsMilAPnD_xQ78G</td>\n",
       "      <td>B00QJDU3KY</td>\n",
       "      <td>Amazon</td>\n",
       "      <td>Amazon Devices,mazon.co.uk</td>\n",
       "      <td>NaN</td>\n",
       "      <td>2016-03-08T20:21:53Z</td>\n",
       "      <td>2017-07-18T23:52:58Z</td>\n",
       "      <td>169 mm x 117 mm x 9.1 mm</td>\n",
       "      <td>NaN</td>\n",
       "      <td>kindlepaperwhite/b00qjdu3ky</td>\n",
       "      <td>...</td>\n",
       "      <td>4.0</td>\n",
       "      <td>https://www.amazon.com/Kindle-Paperwhite-High-...</td>\n",
       "      <td>I am enjoying it so far. Great for reading. Ha...</td>\n",
       "      <td>Great for those that just want an e-reader</td>\n",
       "      <td>NaN</td>\n",
       "      <td>NaN</td>\n",
       "      <td>Tedd Gardiner</td>\n",
       "      <td>NaN</td>\n",
       "      <td>NaN</td>\n",
       "      <td>205 grams</td>\n",
       "    </tr>\n",
       "    <tr>\n",
       "      <th>3</th>\n",
       "      <td>AVpe7AsMilAPnD_xQ78G</td>\n",
       "      <td>B00QJDU3KY</td>\n",
       "      <td>Amazon</td>\n",
       "      <td>Amazon Devices,mazon.co.uk</td>\n",
       "      <td>NaN</td>\n",
       "      <td>2016-03-08T20:21:53Z</td>\n",
       "      <td>2017-07-18T23:52:58Z</td>\n",
       "      <td>169 mm x 117 mm x 9.1 mm</td>\n",
       "      <td>NaN</td>\n",
       "      <td>kindlepaperwhite/b00qjdu3ky</td>\n",
       "      <td>...</td>\n",
       "      <td>5.0</td>\n",
       "      <td>https://www.amazon.com/Kindle-Paperwhite-High-...</td>\n",
       "      <td>I bought one of the first Paperwhites and have...</td>\n",
       "      <td>Love / Hate relationship</td>\n",
       "      <td>NaN</td>\n",
       "      <td>NaN</td>\n",
       "      <td>Dougal</td>\n",
       "      <td>NaN</td>\n",
       "      <td>NaN</td>\n",
       "      <td>205 grams</td>\n",
       "    </tr>\n",
       "    <tr>\n",
       "      <th>4</th>\n",
       "      <td>AVpe7AsMilAPnD_xQ78G</td>\n",
       "      <td>B00QJDU3KY</td>\n",
       "      <td>Amazon</td>\n",
       "      <td>Amazon Devices,mazon.co.uk</td>\n",
       "      <td>NaN</td>\n",
       "      <td>2016-03-08T20:21:53Z</td>\n",
       "      <td>2017-07-18T23:52:58Z</td>\n",
       "      <td>169 mm x 117 mm x 9.1 mm</td>\n",
       "      <td>NaN</td>\n",
       "      <td>kindlepaperwhite/b00qjdu3ky</td>\n",
       "      <td>...</td>\n",
       "      <td>5.0</td>\n",
       "      <td>https://www.amazon.com/Kindle-Paperwhite-High-...</td>\n",
       "      <td>I have to say upfront - I don't like coroporat...</td>\n",
       "      <td>I LOVE IT</td>\n",
       "      <td>NaN</td>\n",
       "      <td>NaN</td>\n",
       "      <td>Miljan David Tanic</td>\n",
       "      <td>NaN</td>\n",
       "      <td>NaN</td>\n",
       "      <td>205 grams</td>\n",
       "    </tr>\n",
       "    <tr>\n",
       "      <th>...</th>\n",
       "      <td>...</td>\n",
       "      <td>...</td>\n",
       "      <td>...</td>\n",
       "      <td>...</td>\n",
       "      <td>...</td>\n",
       "      <td>...</td>\n",
       "      <td>...</td>\n",
       "      <td>...</td>\n",
       "      <td>...</td>\n",
       "      <td>...</td>\n",
       "      <td>...</td>\n",
       "      <td>...</td>\n",
       "      <td>...</td>\n",
       "      <td>...</td>\n",
       "      <td>...</td>\n",
       "      <td>...</td>\n",
       "      <td>...</td>\n",
       "      <td>...</td>\n",
       "      <td>...</td>\n",
       "      <td>...</td>\n",
       "      <td>...</td>\n",
       "    </tr>\n",
       "    <tr>\n",
       "      <th>1592</th>\n",
       "      <td>AVpfo9ukilAPnD_xfhuj</td>\n",
       "      <td>B00NO8JJZW</td>\n",
       "      <td>Amazon</td>\n",
       "      <td>Amazon Devices &amp; Accessories,Amazon Device Acc...</td>\n",
       "      <td>NaN</td>\n",
       "      <td>2016-04-02T14:40:43Z</td>\n",
       "      <td>2017-08-13T08:28:46Z</td>\n",
       "      <td>NaN</td>\n",
       "      <td>NaN</td>\n",
       "      <td>alexavoiceremoteforamazonfiretvfiretvstick/b00...</td>\n",
       "      <td>...</td>\n",
       "      <td>3.0</td>\n",
       "      <td>https://www.amazon.com/Alexa-Voice-Remote-Amaz...</td>\n",
       "      <td>This is not the same remote that I got for my ...</td>\n",
       "      <td>I would be disappointed with myself if i produ...</td>\n",
       "      <td>NaN</td>\n",
       "      <td>NaN</td>\n",
       "      <td>GregAmandawith4</td>\n",
       "      <td>NaN</td>\n",
       "      <td>NaN</td>\n",
       "      <td>4 ounces</td>\n",
       "    </tr>\n",
       "    <tr>\n",
       "      <th>1593</th>\n",
       "      <td>AVpfo9ukilAPnD_xfhuj</td>\n",
       "      <td>B00NO8JJZW</td>\n",
       "      <td>Amazon</td>\n",
       "      <td>Amazon Devices &amp; Accessories,Amazon Device Acc...</td>\n",
       "      <td>NaN</td>\n",
       "      <td>2016-04-02T14:40:43Z</td>\n",
       "      <td>2017-08-13T08:28:46Z</td>\n",
       "      <td>NaN</td>\n",
       "      <td>NaN</td>\n",
       "      <td>alexavoiceremoteforamazonfiretvfiretvstick/b00...</td>\n",
       "      <td>...</td>\n",
       "      <td>1.0</td>\n",
       "      <td>https://www.amazon.com/Alexa-Voice-Remote-Amaz...</td>\n",
       "      <td>I have had to change the batteries in this rem...</td>\n",
       "      <td>Battery draining remote!!!!</td>\n",
       "      <td>NaN</td>\n",
       "      <td>NaN</td>\n",
       "      <td>Amazon Customer</td>\n",
       "      <td>NaN</td>\n",
       "      <td>NaN</td>\n",
       "      <td>4 ounces</td>\n",
       "    </tr>\n",
       "    <tr>\n",
       "      <th>1594</th>\n",
       "      <td>AVpfo9ukilAPnD_xfhuj</td>\n",
       "      <td>B00NO8JJZW</td>\n",
       "      <td>Amazon</td>\n",
       "      <td>Amazon Devices &amp; Accessories,Amazon Device Acc...</td>\n",
       "      <td>NaN</td>\n",
       "      <td>2016-04-02T14:40:43Z</td>\n",
       "      <td>2017-08-13T08:28:46Z</td>\n",
       "      <td>NaN</td>\n",
       "      <td>NaN</td>\n",
       "      <td>alexavoiceremoteforamazonfiretvfiretvstick/b00...</td>\n",
       "      <td>...</td>\n",
       "      <td>1.0</td>\n",
       "      <td>https://www.amazon.com/Alexa-Voice-Remote-Amaz...</td>\n",
       "      <td>Remote did not activate, nor did it connect to...</td>\n",
       "      <td>replacing an even worse remote. Waste of time</td>\n",
       "      <td>NaN</td>\n",
       "      <td>NaN</td>\n",
       "      <td>Amazon Customer</td>\n",
       "      <td>NaN</td>\n",
       "      <td>NaN</td>\n",
       "      <td>4 ounces</td>\n",
       "    </tr>\n",
       "    <tr>\n",
       "      <th>1595</th>\n",
       "      <td>AVpfo9ukilAPnD_xfhuj</td>\n",
       "      <td>B00NO8JJZW</td>\n",
       "      <td>Amazon</td>\n",
       "      <td>Amazon Devices &amp; Accessories,Amazon Device Acc...</td>\n",
       "      <td>NaN</td>\n",
       "      <td>2016-04-02T14:40:43Z</td>\n",
       "      <td>2017-08-13T08:28:46Z</td>\n",
       "      <td>NaN</td>\n",
       "      <td>NaN</td>\n",
       "      <td>alexavoiceremoteforamazonfiretvfiretvstick/b00...</td>\n",
       "      <td>...</td>\n",
       "      <td>3.0</td>\n",
       "      <td>https://www.amazon.com/Alexa-Voice-Remote-Amaz...</td>\n",
       "      <td>It does the job but is super over priced. I fe...</td>\n",
       "      <td>Overpriced</td>\n",
       "      <td>NaN</td>\n",
       "      <td>NaN</td>\n",
       "      <td>Meg Ashley</td>\n",
       "      <td>NaN</td>\n",
       "      <td>NaN</td>\n",
       "      <td>4 ounces</td>\n",
       "    </tr>\n",
       "    <tr>\n",
       "      <th>1596</th>\n",
       "      <td>AVpfo9ukilAPnD_xfhuj</td>\n",
       "      <td>B00NO8JJZW</td>\n",
       "      <td>Amazon</td>\n",
       "      <td>Amazon Devices &amp; Accessories,Amazon Device Acc...</td>\n",
       "      <td>NaN</td>\n",
       "      <td>2016-04-02T14:40:43Z</td>\n",
       "      <td>2017-08-13T08:28:46Z</td>\n",
       "      <td>NaN</td>\n",
       "      <td>NaN</td>\n",
       "      <td>alexavoiceremoteforamazonfiretvfiretvstick/b00...</td>\n",
       "      <td>...</td>\n",
       "      <td>1.0</td>\n",
       "      <td>https://www.amazon.com/Alexa-Voice-Remote-Amaz...</td>\n",
       "      <td>I ordered this item to replace the one that no...</td>\n",
       "      <td>I am sending all of this crap back to amazon a...</td>\n",
       "      <td>NaN</td>\n",
       "      <td>NaN</td>\n",
       "      <td>DIANE K</td>\n",
       "      <td>NaN</td>\n",
       "      <td>NaN</td>\n",
       "      <td>4 ounces</td>\n",
       "    </tr>\n",
       "  </tbody>\n",
       "</table>\n",
       "<p>1597 rows × 27 columns</p>\n",
       "</div>"
      ],
      "text/plain": [
       "                        id       asins   brand  \\\n",
       "0     AVpe7AsMilAPnD_xQ78G  B00QJDU3KY  Amazon   \n",
       "1     AVpe7AsMilAPnD_xQ78G  B00QJDU3KY  Amazon   \n",
       "2     AVpe7AsMilAPnD_xQ78G  B00QJDU3KY  Amazon   \n",
       "3     AVpe7AsMilAPnD_xQ78G  B00QJDU3KY  Amazon   \n",
       "4     AVpe7AsMilAPnD_xQ78G  B00QJDU3KY  Amazon   \n",
       "...                    ...         ...     ...   \n",
       "1592  AVpfo9ukilAPnD_xfhuj  B00NO8JJZW  Amazon   \n",
       "1593  AVpfo9ukilAPnD_xfhuj  B00NO8JJZW  Amazon   \n",
       "1594  AVpfo9ukilAPnD_xfhuj  B00NO8JJZW  Amazon   \n",
       "1595  AVpfo9ukilAPnD_xfhuj  B00NO8JJZW  Amazon   \n",
       "1596  AVpfo9ukilAPnD_xfhuj  B00NO8JJZW  Amazon   \n",
       "\n",
       "                                             categories colors  \\\n",
       "0                            Amazon Devices,mazon.co.uk    NaN   \n",
       "1                            Amazon Devices,mazon.co.uk    NaN   \n",
       "2                            Amazon Devices,mazon.co.uk    NaN   \n",
       "3                            Amazon Devices,mazon.co.uk    NaN   \n",
       "4                            Amazon Devices,mazon.co.uk    NaN   \n",
       "...                                                 ...    ...   \n",
       "1592  Amazon Devices & Accessories,Amazon Device Acc...    NaN   \n",
       "1593  Amazon Devices & Accessories,Amazon Device Acc...    NaN   \n",
       "1594  Amazon Devices & Accessories,Amazon Device Acc...    NaN   \n",
       "1595  Amazon Devices & Accessories,Amazon Device Acc...    NaN   \n",
       "1596  Amazon Devices & Accessories,Amazon Device Acc...    NaN   \n",
       "\n",
       "                 dateadded           dateupdated                 dimension  \\\n",
       "0     2016-03-08T20:21:53Z  2017-07-18T23:52:58Z  169 mm x 117 mm x 9.1 mm   \n",
       "1     2016-03-08T20:21:53Z  2017-07-18T23:52:58Z  169 mm x 117 mm x 9.1 mm   \n",
       "2     2016-03-08T20:21:53Z  2017-07-18T23:52:58Z  169 mm x 117 mm x 9.1 mm   \n",
       "3     2016-03-08T20:21:53Z  2017-07-18T23:52:58Z  169 mm x 117 mm x 9.1 mm   \n",
       "4     2016-03-08T20:21:53Z  2017-07-18T23:52:58Z  169 mm x 117 mm x 9.1 mm   \n",
       "...                    ...                   ...                       ...   \n",
       "1592  2016-04-02T14:40:43Z  2017-08-13T08:28:46Z                       NaN   \n",
       "1593  2016-04-02T14:40:43Z  2017-08-13T08:28:46Z                       NaN   \n",
       "1594  2016-04-02T14:40:43Z  2017-08-13T08:28:46Z                       NaN   \n",
       "1595  2016-04-02T14:40:43Z  2017-08-13T08:28:46Z                       NaN   \n",
       "1596  2016-04-02T14:40:43Z  2017-08-13T08:28:46Z                       NaN   \n",
       "\n",
       "      ean                                               keys  ...  \\\n",
       "0     NaN                        kindlepaperwhite/b00qjdu3ky  ...   \n",
       "1     NaN                        kindlepaperwhite/b00qjdu3ky  ...   \n",
       "2     NaN                        kindlepaperwhite/b00qjdu3ky  ...   \n",
       "3     NaN                        kindlepaperwhite/b00qjdu3ky  ...   \n",
       "4     NaN                        kindlepaperwhite/b00qjdu3ky  ...   \n",
       "...   ...                                                ...  ...   \n",
       "1592  NaN  alexavoiceremoteforamazonfiretvfiretvstick/b00...  ...   \n",
       "1593  NaN  alexavoiceremoteforamazonfiretvfiretvstick/b00...  ...   \n",
       "1594  NaN  alexavoiceremoteforamazonfiretvfiretvstick/b00...  ...   \n",
       "1595  NaN  alexavoiceremoteforamazonfiretvfiretvstick/b00...  ...   \n",
       "1596  NaN  alexavoiceremoteforamazonfiretvfiretvstick/b00...  ...   \n",
       "\n",
       "     reviews_rating                                 reviews_sourceurls  \\\n",
       "0               5.0  https://www.amazon.com/Kindle-Paperwhite-High-...   \n",
       "1               5.0  https://www.amazon.com/Kindle-Paperwhite-High-...   \n",
       "2               4.0  https://www.amazon.com/Kindle-Paperwhite-High-...   \n",
       "3               5.0  https://www.amazon.com/Kindle-Paperwhite-High-...   \n",
       "4               5.0  https://www.amazon.com/Kindle-Paperwhite-High-...   \n",
       "...             ...                                                ...   \n",
       "1592            3.0  https://www.amazon.com/Alexa-Voice-Remote-Amaz...   \n",
       "1593            1.0  https://www.amazon.com/Alexa-Voice-Remote-Amaz...   \n",
       "1594            1.0  https://www.amazon.com/Alexa-Voice-Remote-Amaz...   \n",
       "1595            3.0  https://www.amazon.com/Alexa-Voice-Remote-Amaz...   \n",
       "1596            1.0  https://www.amazon.com/Alexa-Voice-Remote-Amaz...   \n",
       "\n",
       "                                           reviews_text  \\\n",
       "0     I initially had trouble deciding between the p...   \n",
       "1     Allow me to preface this with a little history...   \n",
       "2     I am enjoying it so far. Great for reading. Ha...   \n",
       "3     I bought one of the first Paperwhites and have...   \n",
       "4     I have to say upfront - I don't like coroporat...   \n",
       "...                                                 ...   \n",
       "1592  This is not the same remote that I got for my ...   \n",
       "1593  I have had to change the batteries in this rem...   \n",
       "1594  Remote did not activate, nor did it connect to...   \n",
       "1595  It does the job but is super over priced. I fe...   \n",
       "1596  I ordered this item to replace the one that no...   \n",
       "\n",
       "                                          reviews_title reviews_usercity  \\\n",
       "0                        Paperwhite voyage, no regrets!              NaN   \n",
       "1                     One Simply Could Not Ask For More              NaN   \n",
       "2            Great for those that just want an e-reader              NaN   \n",
       "3                              Love / Hate relationship              NaN   \n",
       "4                                             I LOVE IT              NaN   \n",
       "...                                                 ...              ...   \n",
       "1592  I would be disappointed with myself if i produ...              NaN   \n",
       "1593                        Battery draining remote!!!!              NaN   \n",
       "1594      replacing an even worse remote. Waste of time              NaN   \n",
       "1595                                         Overpriced              NaN   \n",
       "1596  I am sending all of this crap back to amazon a...              NaN   \n",
       "\n",
       "     reviews_userprovince    reviews_username  sizes upc     weight  \n",
       "0                     NaN          Cristina M    NaN NaN  205 grams  \n",
       "1                     NaN               Ricky    NaN NaN  205 grams  \n",
       "2                     NaN       Tedd Gardiner    NaN NaN  205 grams  \n",
       "3                     NaN              Dougal    NaN NaN  205 grams  \n",
       "4                     NaN  Miljan David Tanic    NaN NaN  205 grams  \n",
       "...                   ...                 ...    ...  ..        ...  \n",
       "1592                  NaN     GregAmandawith4    NaN NaN   4 ounces  \n",
       "1593                  NaN     Amazon Customer    NaN NaN   4 ounces  \n",
       "1594                  NaN     Amazon Customer    NaN NaN   4 ounces  \n",
       "1595                  NaN          Meg Ashley    NaN NaN   4 ounces  \n",
       "1596                  NaN             DIANE K    NaN NaN   4 ounces  \n",
       "\n",
       "[1597 rows x 27 columns]"
      ]
     },
     "execution_count": 158,
     "metadata": {},
     "output_type": "execute_result"
    }
   ],
   "source": [
    "data = pd.read_csv('7817_1.csv')\n",
    "data.columns = data.columns.str.lower().str.replace('.', '_', regex=False)\n",
    "data"
   ]
  },
  {
   "cell_type": "code",
   "execution_count": 247,
   "id": "e4738511",
   "metadata": {},
   "outputs": [
    {
     "data": {
      "text/plain": [
       "\"I initially had trouble deciding between the paperwhite and the voyage because reviews more or less said the same thing: the paperwhite is great, but if you have spending money, go for the voyage.Fortunately, I had friends who owned each, so I ended up buying the paperwhite on this basis: both models now have 300 ppi, so the 80 dollar jump turns out pricey the voyage's page press isn't always sensitive, and if you are fine with a specific setting, you don't need auto light adjustment).It's been a week and I am loving my paperwhite, no regrets! The touch screen is receptive and easy to use, and I keep the light at a specific setting regardless of the time of day. (In any case, it's not hard to change the setting either, as you'll only be changing the light level at a certain time of day, not every now and then while reading).Also glad that I went for the international shipping option with Amazon. Extra expense, but delivery was on time, with tracking, and I didnt need to worry about customs, which I may have if I used a third party shipping service.\""
      ]
     },
     "execution_count": 247,
     "metadata": {},
     "output_type": "execute_result"
    }
   ],
   "source": [
    "data['reviews_text'][0]"
   ]
  },
  {
   "cell_type": "code",
   "execution_count": 159,
   "id": "ca5ce8b9",
   "metadata": {
    "scrolled": false
   },
   "outputs": [
    {
     "data": {
      "text/html": [
       "<div>\n",
       "<style scoped>\n",
       "    .dataframe tbody tr th:only-of-type {\n",
       "        vertical-align: middle;\n",
       "    }\n",
       "\n",
       "    .dataframe tbody tr th {\n",
       "        vertical-align: top;\n",
       "    }\n",
       "\n",
       "    .dataframe thead th {\n",
       "        text-align: right;\n",
       "    }\n",
       "</style>\n",
       "<table border=\"1\" class=\"dataframe\">\n",
       "  <thead>\n",
       "    <tr style=\"text-align: right;\">\n",
       "      <th></th>\n",
       "      <th>categories</th>\n",
       "    </tr>\n",
       "  </thead>\n",
       "  <tbody>\n",
       "    <tr>\n",
       "      <th>Amazon Devices,Home,Smart Home &amp; Connected Living,Smart Hubs &amp; Wireless Routers,Smart Hubs,Home Improvement,Home Safety &amp; Security,Alarms &amp; Sensors,Home Security,Amazon Echo,Home, Garage &amp; Office,Smart Home,Voice Assistants,Amazon Tap,Electronics Features,TVs &amp; Electronics,Portable Audio &amp; Electronics,MP3 Player Accessories,Home Theater &amp; Audio,Speakers,Featured Brands,Electronics,Kindle Store,Frys,Electronic Components,Home Automation,Electronics, Tech Toys, Movies, Music,Audio,Bluetooth Speakers</th>\n",
       "      <td>542</td>\n",
       "    </tr>\n",
       "    <tr>\n",
       "      <th>Amazon Devices</th>\n",
       "      <td>195</td>\n",
       "    </tr>\n",
       "    <tr>\n",
       "      <th>Categories,Amazon Devices,Electronics Features,Streaming Media Players,Consumer Electronics,See more Amazon Fire TV Digital HD Media Streamer (Late...</th>\n",
       "      <td>166</td>\n",
       "    </tr>\n",
       "    <tr>\n",
       "      <th>Amazon Devices,Kindle Store</th>\n",
       "      <td>151</td>\n",
       "    </tr>\n",
       "    <tr>\n",
       "      <th>Amazon Devices,Corded Headsets,Electronics Features,Electronics,Audio,Headphones,Kindle Store,Kindle Accessories</th>\n",
       "      <td>133</td>\n",
       "    </tr>\n",
       "    <tr>\n",
       "      <th>Electronics,Amazon Devices</th>\n",
       "      <td>111</td>\n",
       "    </tr>\n",
       "    <tr>\n",
       "      <th>Amazon Devices,Kindle Store,buy a kindle</th>\n",
       "      <td>70</td>\n",
       "    </tr>\n",
       "    <tr>\n",
       "      <th>Categories,Amazon Devices,Streaming Media Players</th>\n",
       "      <td>38</td>\n",
       "    </tr>\n",
       "    <tr>\n",
       "      <th>Kindle Store,Amazon Devices,Electronics</th>\n",
       "      <td>32</td>\n",
       "    </tr>\n",
       "    <tr>\n",
       "      <th>Amazon Devices &amp; Accessories,Amazon Device Accessories,Controllers &amp; Remote Controls,Kindle Store,Fire TV Accessories,Controllers &amp; Remotes,Controllers</th>\n",
       "      <td>29</td>\n",
       "    </tr>\n",
       "    <tr>\n",
       "      <th>Amazon Devices,mazon.co.uk</th>\n",
       "      <td>23</td>\n",
       "    </tr>\n",
       "    <tr>\n",
       "      <th>Amazon Devices &amp; Accessories,Amazon Device Accessories,Kindle Store,Kindle E-Reader Accessories,Kindle Oasis Accessories</th>\n",
       "      <td>22</td>\n",
       "    </tr>\n",
       "    <tr>\n",
       "      <th>Amazon Devices &amp; Accessories,Amazon Device Accessories,Power Adapters &amp; Cables,Kindle Store,Kindle E-Reader Accessories,Kindle Paperwhite Accessories</th>\n",
       "      <td>19</td>\n",
       "    </tr>\n",
       "    <tr>\n",
       "      <th>Amazon Devices,Kindle Accessories</th>\n",
       "      <td>18</td>\n",
       "    </tr>\n",
       "    <tr>\n",
       "      <th>Amazon Devices,Electronics,Kindle Store</th>\n",
       "      <td>16</td>\n",
       "    </tr>\n",
       "    <tr>\n",
       "      <th>Cell Phones &amp; Accessories,Accessories,Screen Protectors,Cell,Amazon Devices,Electronics</th>\n",
       "      <td>12</td>\n",
       "    </tr>\n",
       "    <tr>\n",
       "      <th>Amazon Devices,Electronics,Kindle Store,Amazon Echo</th>\n",
       "      <td>9</td>\n",
       "    </tr>\n",
       "    <tr>\n",
       "      <th>Amazon Devices &amp; Accessories,Amazon Device Accessories,Controllers &amp; Remote Controls,Kindle Store,Amazon Echo Accessories,Remote Controls</th>\n",
       "      <td>7</td>\n",
       "    </tr>\n",
       "    <tr>\n",
       "      <th>Amazon Devices,Kindle Store,Kindle Accessories</th>\n",
       "      <td>4</td>\n",
       "    </tr>\n",
       "  </tbody>\n",
       "</table>\n",
       "</div>"
      ],
      "text/plain": [
       "                                                    categories\n",
       "Amazon Devices,Home,Smart Home & Connected Livi...         542\n",
       "Amazon Devices                                             195\n",
       "Categories,Amazon Devices,Electronics Features,...         166\n",
       "Amazon Devices,Kindle Store                                151\n",
       "Amazon Devices,Corded Headsets,Electronics Feat...         133\n",
       "Electronics,Amazon Devices                                 111\n",
       "Amazon Devices,Kindle Store,buy a kindle                    70\n",
       "Categories,Amazon Devices,Streaming Media Players           38\n",
       "Kindle Store,Amazon Devices,Electronics                     32\n",
       "Amazon Devices & Accessories,Amazon Device Acce...          29\n",
       "Amazon Devices,mazon.co.uk                                  23\n",
       "Amazon Devices & Accessories,Amazon Device Acce...          22\n",
       "Amazon Devices & Accessories,Amazon Device Acce...          19\n",
       "Amazon Devices,Kindle Accessories                           18\n",
       "Amazon Devices,Electronics,Kindle Store                     16\n",
       "Cell Phones & Accessories,Accessories,Screen Pr...          12\n",
       "Amazon Devices,Electronics,Kindle Store,Amazon ...           9\n",
       "Amazon Devices & Accessories,Amazon Device Acce...           7\n",
       "Amazon Devices,Kindle Store,Kindle Accessories               4"
      ]
     },
     "execution_count": 159,
     "metadata": {},
     "output_type": "execute_result"
    }
   ],
   "source": [
    "pd.DataFrame(data['categories'].value_counts())"
   ]
  },
  {
   "cell_type": "code",
   "execution_count": 160,
   "id": "4ca0c674",
   "metadata": {},
   "outputs": [
    {
     "name": "stdout",
     "output_type": "stream",
     "text": [
      "5.0    741\n",
      "4.0    236\n",
      "3.0    124\n",
      "1.0     42\n",
      "2.0     34\n",
      "Name: reviews_rating, dtype: int64\n"
     ]
    },
    {
     "data": {
      "image/png": "[encoded data removed]",
      "text/plain": [
       "<Figure size 640x480 with 1 Axes>"
      ]
     },
     "metadata": {},
     "output_type": "display_data"
    }
   ],
   "source": [
    "reviews = data['reviews_rating'].dropna().value_counts()\n",
    "print(reviews)\n",
    "\n",
    "plt.bar(data['reviews_rating'].dropna().unique(), reviews, edgecolor='k', color='darkorange')\n",
    "plt.xlabel('Review Ratings (1-5)')\n",
    "mean = data['reviews_rating'].mean()\n",
    "median = data['reviews_rating'].median()\n",
    "mode = data['reviews_rating'].mode()[0]\n",
    "plt.axvline(mean, linestyle='dashed', linewidth=2, color='b', label=f'Average Rating Score: {mean:.2f}')\n",
    "plt.axvline(median, linestyle='dashed', linewidth=2, color='k', label=f'Typical Rating Score: {median:.2f}')\n",
    "plt.axvline(mode, linestyle='dashed', linewidth=2, color='r', label=f'Most Frequent Rating Score: {mode:.2f}')\n",
    "plt.legend()\n",
    "plt.title('Count of Reviews by Stars')\n",
    "plt.show()"
   ]
  },
  {
   "cell_type": "markdown",
   "id": "685b5cca",
   "metadata": {},
   "source": [
    "# VADER Sentiment Scoring"
   ]
  },
  {
   "cell_type": "markdown",
   "id": "a2102eb0",
   "metadata": {},
   "source": [
    "## Text Preprocessing"
   ]
  },
  {
   "cell_type": "code",
   "execution_count": 269,
   "id": "a6bef2e5",
   "metadata": {},
   "outputs": [],
   "source": [
    "from nltk.sentiment import SentimentIntensityAnalyzer\n",
    "from tqdm.notebook import tqdm\n",
    "\n",
    "model = SentimentIntensityAnalyzer()"
   ]
  },
  {
   "cell_type": "code",
   "execution_count": 270,
   "id": "dcc6983e",
   "metadata": {},
   "outputs": [
    {
     "name": "stderr",
     "output_type": "stream",
     "text": [
      "[nltk_data] Downloading package stopwords to\n",
      "[nltk_data]     /Users/thananhthu/nltk_data...\n",
      "[nltk_data]   Package stopwords is already up-to-date!\n",
      "[nltk_data] Downloading package wordnet to\n",
      "[nltk_data]     /Users/thananhthu/nltk_data...\n",
      "[nltk_data]   Package wordnet is already up-to-date!\n"
     ]
    },
    {
     "data": {
      "text/plain": [
       "True"
      ]
     },
     "execution_count": 270,
     "metadata": {},
     "output_type": "execute_result"
    }
   ],
   "source": [
    "nltk.download('stopwords')\n",
    "nltk.download('wordnet')"
   ]
  },
  {
   "cell_type": "code",
   "execution_count": 271,
   "id": "f698b68d",
   "metadata": {},
   "outputs": [],
   "source": [
    "texts = list(data['reviews_text'])\n",
    "lemmatizer = WordNetLemmatizer()\n",
    "corpus = []\n",
    "\n",
    "for i in range(len(texts)):\n",
    "    r = re.sub('[^a-zA-Z]', ' ', texts[i])\n",
    "    r = r.lower()\n",
    "    r = r.split()\n",
    "    r = [word for word in r if word not in stopwords.words('english')]\n",
    "    r = [lemmatizer.lemmatize(word) for word in r]\n",
    "    r = ' '.join(r)\n",
    "    corpus.append(r)\n",
    "\n",
    "data['processed_reviews'] = corpus"
   ]
  },
  {
   "cell_type": "code",
   "execution_count": 272,
   "id": "8bac6866",
   "metadata": {},
   "outputs": [
    {
     "name": "stdout",
     "output_type": "stream",
     "text": [
      "The number of positive and neutral reviews: 1458\n",
      "The number of negative reviews: 93\n"
     ]
    },
    {
     "name": "stderr",
     "output_type": "stream",
     "text": [
      "/var/folders/1j/bngbclkx6mn2fwj1lncpx9w80000gn/T/ipykernel_15512/2972580233.py:8: SettingWithCopyWarning: \n",
      "A value is trying to be set on a copy of a slice from a DataFrame.\n",
      "Try using .loc[row_indexer,col_indexer] = value instead\n",
      "\n",
      "See the caveats in the documentation: https://pandas.pydata.org/pandas-docs/stable/user_guide/indexing.html#returning-a-view-versus-a-copy\n",
      "  sentiment_df['label'] = sentiment_df.apply(lambda row: 'positive' if row['pos'] > row['neu'] and row['pos'] > row['neg'] else\n"
     ]
    },
    {
     "data": {
      "text/plain": [
       "neutral     1311\n",
       "positive     285\n",
       "negative       1\n",
       "Name: label, dtype: int64"
      ]
     },
     "execution_count": 272,
     "metadata": {},
     "output_type": "execute_result"
    }
   ],
   "source": [
    "# Polarity Score\n",
    "data['polarity'] = data['processed_reviews'].apply(lambda x: model.polarity_scores(x))\n",
    "data[['neg', 'neu', 'pos', 'compound']] = data['polarity'].apply(pd.Series)\n",
    "data.drop('polarity', axis=1, inplace=True)\n",
    "sentiment_df = data[['id','processed_reviews', 'reviews_rating', 'neg', 'neu', 'pos', 'compound']]\n",
    "print('The number of positive and neutral reviews:', len(sentiment_df[sentiment_df['compound'] > 0]))\n",
    "print('The number of negative reviews:', len(sentiment_df[sentiment_df['compound'] < 0]))\n",
    "sentiment_df['label'] = sentiment_df.apply(lambda row: 'positive' if row['pos'] > row['neu'] and row['pos'] > row['neg'] else \n",
    "                                ('negative' if row['neg'] > row['neu'] and row['neg'] > row['pos'] else 'neutral'), axis=1)\n",
    "\n",
    "sentiment_df['label'].value_counts()"
   ]
  },
  {
   "cell_type": "code",
   "execution_count": 273,
   "id": "ac79a448",
   "metadata": {
    "scrolled": false
   },
   "outputs": [
    {
     "data": {
      "image/png": "[encoded data removed]",
      "text/plain": [
       "<Figure size 640x480 with 1 Axes>"
      ]
     },
     "metadata": {},
     "output_type": "display_data"
    }
   ],
   "source": [
    "ax = sns.barplot(data=sentiment_df, x='reviews_rating', y='compound')\n",
    "ax.set_title('Compound Score by Amazon Star Review')\n",
    "plt.show()"
   ]
  },
  {
   "cell_type": "code",
   "execution_count": 274,
   "id": "4357e3ff",
   "metadata": {},
   "outputs": [
    {
     "data": {
      "image/png": "[encoded data removed]",
      "text/plain": [
       "<Figure size 1200x500 with 3 Axes>"
      ]
     },
     "metadata": {},
     "output_type": "display_data"
    }
   ],
   "source": [
    "fig, axs = plt.subplots(1, 3, figsize=(12,5))\n",
    "sns.barplot(data=sentiment_df, x='reviews_rating', y='pos', ax=axs[0])\n",
    "sns.barplot(data=sentiment_df, x='reviews_rating', y='neg', ax=axs[1])\n",
    "sns.barplot(data=sentiment_df, x='reviews_rating', y='neu', ax=axs[2])\n",
    "\n",
    "axs[0].set_title('Positive')\n",
    "axs[1].set_title('Negative')\n",
    "axs[2].set_title('Neutral')\n",
    "plt.tight_layout()\n",
    "plt.show()"
   ]
  },
  {
   "cell_type": "markdown",
   "id": "8cb2800d",
   "metadata": {},
   "source": [
    "# RoBERTa Pre-trained Model"
   ]
  },
  {
   "cell_type": "code",
   "execution_count": 331,
   "id": "506a10a7",
   "metadata": {},
   "outputs": [],
   "source": [
    "import torch\n",
    "from transformers import AutoTokenizer, AutoModelForSequenceClassification\n",
    "from scipy.special import softmax\n",
    "from tqdm import tqdm"
   ]
  },
  {
   "cell_type": "code",
   "execution_count": 332,
   "id": "69e0bd4a",
   "metadata": {},
   "outputs": [],
   "source": [
    "MODEL = f\"cardiffnlp/twitter-roberta-base-sentiment\"\n",
    "tokenizer = AutoTokenizer.from_pretrained(MODEL)\n",
    "model = AutoModelForSequenceClassification.from_pretrained(MODEL)"
   ]
  },
  {
   "cell_type": "code",
   "execution_count": 333,
   "id": "903ea698",
   "metadata": {},
   "outputs": [
    {
     "data": {
      "text/plain": [
       "'initially trouble deciding paperwhite voyage review le said thing paperwhite great spending money go voyage fortunately friend owned ended buying paperwhite basis model ppi dollar jump turn pricey voyage page press always sensitive fine specific setting need auto light adjustment week loving paperwhite regret touch screen receptive easy use keep light specific setting regardless time day case hard change setting either changing light level certain time day every reading also glad went international shipping option amazon extra expense delivery time tracking didnt need worry custom may used third party shipping service'"
      ]
     },
     "execution_count": 333,
     "metadata": {},
     "output_type": "execute_result"
    }
   ],
   "source": [
    "example = sentiment_df['processed_reviews'][0]\n",
    "example"
   ]
  },
  {
   "cell_type": "code",
   "execution_count": 334,
   "id": "304ab816",
   "metadata": {},
   "outputs": [
    {
     "name": "stdout",
     "output_type": "stream",
     "text": [
      "Roberta Results: {'neg': 0.03813725, 'neu': 0.23202759, 'pos': 0.72983515}\n",
      "VADER Results: {'neg': 0.061, 'neu': 0.692, 'pos': 0.247, 'compound': 0.9633}\n"
     ]
    }
   ],
   "source": [
    "# Roberta Model vs. VADER Model\n",
    "encoded_text = tokenizer(example, return_tensors='pt')\n",
    "output = model(**encoded_text)\n",
    "scores = output[0][0].detach().numpy()\n",
    "scores = softmax(scores)\n",
    "scores_dict = {\n",
    "    'neg' : scores[0],\n",
    "    'neu' : scores[1],\n",
    "    'pos' : scores[2]\n",
    "}\n",
    "print('Roberta Results:', scores_dict)\n",
    "print('VADER Results:', sia.polarity_scores(example))"
   ]
  },
  {
   "cell_type": "code",
   "execution_count": 335,
   "id": "43cf0a7b",
   "metadata": {},
   "outputs": [
    {
     "name": "stderr",
     "output_type": "stream",
     "text": [
      "  1%|▍                                        | 18/1597 [00:00<01:00, 26.17it/s]"
     ]
    },
    {
     "name": "stdout",
     "output_type": "stream",
     "text": [
      "Error processing row 14: The expanded size of the tensor (1209) must match the existing size (514) at non-singleton dimension 1.  Target sizes: [1, 1209].  Tensor sizes: [1, 514]\n"
     ]
    },
    {
     "name": "stderr",
     "output_type": "stream",
     "text": [
      " 22%|████████▋                               | 347/1597 [00:21<00:53, 23.36it/s]"
     ]
    },
    {
     "name": "stdout",
     "output_type": "stream",
     "text": [
      "Error processing row 343: The expanded size of the tensor (831) must match the existing size (514) at non-singleton dimension 1.  Target sizes: [1, 831].  Tensor sizes: [1, 514]\n"
     ]
    },
    {
     "name": "stderr",
     "output_type": "stream",
     "text": [
      " 22%|████████▊                               | 354/1597 [00:21<00:50, 24.40it/s]"
     ]
    },
    {
     "name": "stdout",
     "output_type": "stream",
     "text": [
      "Error processing row 349: The expanded size of the tensor (1050) must match the existing size (514) at non-singleton dimension 1.  Target sizes: [1, 1050].  Tensor sizes: [1, 514]\n"
     ]
    },
    {
     "name": "stderr",
     "output_type": "stream",
     "text": [
      " 24%|█████████▋                              | 386/1597 [00:23<01:09, 17.44it/s]"
     ]
    },
    {
     "name": "stdout",
     "output_type": "stream",
     "text": [
      "Error processing row 383: The expanded size of the tensor (2041) must match the existing size (514) at non-singleton dimension 1.  Target sizes: [1, 2041].  Tensor sizes: [1, 514]\n"
     ]
    },
    {
     "name": "stderr",
     "output_type": "stream",
     "text": [
      " 24%|█████████▋                              | 389/1597 [00:23<01:18, 15.48it/s]"
     ]
    },
    {
     "name": "stdout",
     "output_type": "stream",
     "text": [
      "Error processing row 387: The expanded size of the tensor (2042) must match the existing size (514) at non-singleton dimension 1.  Target sizes: [1, 2042].  Tensor sizes: [1, 514]\n",
      "Error processing row 389: The expanded size of the tensor (553) must match the existing size (514) at non-singleton dimension 1.  Target sizes: [1, 553].  Tensor sizes: [1, 514]\n"
     ]
    },
    {
     "name": "stderr",
     "output_type": "stream",
     "text": [
      " 27%|██████████▊                             | 434/1597 [00:26<01:01, 18.90it/s]"
     ]
    },
    {
     "name": "stdout",
     "output_type": "stream",
     "text": [
      "Error processing row 430: The expanded size of the tensor (570) must match the existing size (514) at non-singleton dimension 1.  Target sizes: [1, 570].  Tensor sizes: [1, 514]\n"
     ]
    },
    {
     "name": "stderr",
     "output_type": "stream",
     "text": [
      " 49%|███████████████████▋                    | 788/1597 [00:50<01:13, 10.99it/s]"
     ]
    },
    {
     "name": "stdout",
     "output_type": "stream",
     "text": [
      "Error processing row 786: The expanded size of the tensor (1046) must match the existing size (514) at non-singleton dimension 1.  Target sizes: [1, 1046].  Tensor sizes: [1, 514]\n"
     ]
    },
    {
     "name": "stderr",
     "output_type": "stream",
     "text": [
      " 50%|███████████████████▊                    | 793/1597 [00:50<01:02, 12.82it/s]"
     ]
    },
    {
     "name": "stdout",
     "output_type": "stream",
     "text": [
      "Error processing row 790: The expanded size of the tensor (1966) must match the existing size (514) at non-singleton dimension 1.  Target sizes: [1, 1966].  Tensor sizes: [1, 514]\n"
     ]
    },
    {
     "name": "stderr",
     "output_type": "stream",
     "text": [
      " 50%|███████████████████▉                    | 797/1597 [00:50<00:46, 17.38it/s]"
     ]
    },
    {
     "name": "stdout",
     "output_type": "stream",
     "text": [
      "Error processing row 794: The expanded size of the tensor (600) must match the existing size (514) at non-singleton dimension 1.  Target sizes: [1, 600].  Tensor sizes: [1, 514]\n"
     ]
    },
    {
     "name": "stderr",
     "output_type": "stream",
     "text": [
      " 53%|█████████████████████▍                  | 854/1597 [00:56<01:04, 11.45it/s]"
     ]
    },
    {
     "name": "stdout",
     "output_type": "stream",
     "text": [
      "Error processing row 850: The expanded size of the tensor (1047) must match the existing size (514) at non-singleton dimension 1.  Target sizes: [1, 1047].  Tensor sizes: [1, 514]\n",
      "Error processing row 851: The expanded size of the tensor (1966) must match the existing size (514) at non-singleton dimension 1.  Target sizes: [1, 1966].  Tensor sizes: [1, 514]\n"
     ]
    },
    {
     "name": "stderr",
     "output_type": "stream",
     "text": [
      "100%|███████████████████████████████████████| 1597/1597 [01:29<00:00, 17.83it/s]"
     ]
    },
    {
     "name": "stdout",
     "output_type": "stream",
     "text": [
      "Failed rows: [14, 343, 349, 383, 387, 389, 430, 786, 790, 794, 850, 851]\n"
     ]
    },
    {
     "name": "stderr",
     "output_type": "stream",
     "text": [
      "\n"
     ]
    }
   ],
   "source": [
    "res = {}\n",
    "failed_rows = []\n",
    "\n",
    "for i, row in tqdm(sentiment_df.iterrows(), total=len(sentiment_df)):\n",
    "    try:\n",
    "        text = row['processed_reviews']\n",
    "        userid = row['id']\n",
    "        vader_result_rename = {}\n",
    "        roberta_result = polarity_scores_roberta(text)\n",
    "        res[i] = {'id': userid, 'processed_reviews': text, 'roberta_result': roberta_result}\n",
    "    except RuntimeError as e:\n",
    "        print(f'Error processing row {i}: {e}')\n",
    "        failed_rows.append(i)\n",
    "\n",
    "print(\"Failed rows:\", failed_rows)"
   ]
  },
  {
   "cell_type": "code",
   "execution_count": 336,
   "id": "74a484b0",
   "metadata": {},
   "outputs": [
    {
     "name": "stderr",
     "output_type": "stream",
     "text": [
      "/var/folders/1j/bngbclkx6mn2fwj1lncpx9w80000gn/T/ipykernel_15512/799939153.py:2: SettingWithCopyWarning: \n",
      "A value is trying to be set on a copy of a slice from a DataFrame\n",
      "\n",
      "See the caveats in the documentation: https://pandas.pydata.org/pandas-docs/stable/user_guide/indexing.html#returning-a-view-versus-a-copy\n",
      "  sentiment_df.rename(columns={'reviews_rating': 'rating'}, inplace=True)\n"
     ]
    },
    {
     "data": {
      "text/plain": [
       "positive    1163\n",
       "neutral      377\n",
       "negative      45\n",
       "Name: label, dtype: int64"
      ]
     },
     "execution_count": 336,
     "metadata": {},
     "output_type": "execute_result"
    }
   ],
   "source": [
    "# Polarity Score (Roberta)\n",
    "sentiment_df.rename(columns={'reviews_rating': 'rating'}, inplace=True)\n",
    "results_df = pd.DataFrame(res).T\n",
    "results_df = results_df.reset_index()\n",
    "\n",
    "results_df[['neg', 'neu', 'pos']] = results_df['roberta_result'].apply(pd.Series)\n",
    "\n",
    "results_df.drop(columns=['roberta_result'], inplace=True)\n",
    "\n",
    "results_df['label'] = results_df.apply(lambda row: 'positive' if row['pos'] > row['neu'] and row['pos'] > row['neg'] else \n",
    "                                ('negative' if row['neg'] > row['neu'] and row['neg'] > row['pos'] else 'neutral'), axis=1)\n",
    "\n",
    "results_df['label'].value_counts()"
   ]
  },
  {
   "cell_type": "code",
   "execution_count": 337,
   "id": "4b93b787",
   "metadata": {},
   "outputs": [
    {
     "data": {
      "text/html": [
       "<div>\n",
       "<style scoped>\n",
       "    .dataframe tbody tr th:only-of-type {\n",
       "        vertical-align: middle;\n",
       "    }\n",
       "\n",
       "    .dataframe tbody tr th {\n",
       "        vertical-align: top;\n",
       "    }\n",
       "\n",
       "    .dataframe thead th {\n",
       "        text-align: right;\n",
       "    }\n",
       "</style>\n",
       "<table border=\"1\" class=\"dataframe\">\n",
       "  <thead>\n",
       "    <tr style=\"text-align: right;\">\n",
       "      <th></th>\n",
       "      <th>index</th>\n",
       "      <th>id</th>\n",
       "      <th>processed_reviews</th>\n",
       "      <th>neg</th>\n",
       "      <th>neu</th>\n",
       "      <th>pos</th>\n",
       "      <th>label</th>\n",
       "    </tr>\n",
       "  </thead>\n",
       "  <tbody>\n",
       "    <tr>\n",
       "      <th>0</th>\n",
       "      <td>0</td>\n",
       "      <td>AVpe7AsMilAPnD_xQ78G</td>\n",
       "      <td>initially trouble deciding paperwhite voyage r...</td>\n",
       "      <td>0.038137</td>\n",
       "      <td>0.232028</td>\n",
       "      <td>0.729835</td>\n",
       "      <td>positive</td>\n",
       "    </tr>\n",
       "    <tr>\n",
       "      <th>1</th>\n",
       "      <td>1</td>\n",
       "      <td>AVpe7AsMilAPnD_xQ78G</td>\n",
       "      <td>allow preface little history casual reader own...</td>\n",
       "      <td>0.005306</td>\n",
       "      <td>0.061502</td>\n",
       "      <td>0.933192</td>\n",
       "      <td>positive</td>\n",
       "    </tr>\n",
       "    <tr>\n",
       "      <th>2</th>\n",
       "      <td>2</td>\n",
       "      <td>AVpe7AsMilAPnD_xQ78G</td>\n",
       "      <td>enjoying far great reading original fire since...</td>\n",
       "      <td>0.048410</td>\n",
       "      <td>0.124700</td>\n",
       "      <td>0.826890</td>\n",
       "      <td>positive</td>\n",
       "    </tr>\n",
       "    <tr>\n",
       "      <th>3</th>\n",
       "      <td>3</td>\n",
       "      <td>AVpe7AsMilAPnD_xQ78G</td>\n",
       "      <td>bought one first paperwhites pleased constant ...</td>\n",
       "      <td>0.024015</td>\n",
       "      <td>0.242741</td>\n",
       "      <td>0.733244</td>\n",
       "      <td>positive</td>\n",
       "    </tr>\n",
       "    <tr>\n",
       "      <th>4</th>\n",
       "      <td>4</td>\n",
       "      <td>AVpe7AsMilAPnD_xQ78G</td>\n",
       "      <td>say upfront like coroporate hermetically close...</td>\n",
       "      <td>0.086631</td>\n",
       "      <td>0.565330</td>\n",
       "      <td>0.348039</td>\n",
       "      <td>neutral</td>\n",
       "    </tr>\n",
       "    <tr>\n",
       "      <th>...</th>\n",
       "      <td>...</td>\n",
       "      <td>...</td>\n",
       "      <td>...</td>\n",
       "      <td>...</td>\n",
       "      <td>...</td>\n",
       "      <td>...</td>\n",
       "      <td>...</td>\n",
       "    </tr>\n",
       "    <tr>\n",
       "      <th>1580</th>\n",
       "      <td>1592</td>\n",
       "      <td>AVpfo9ukilAPnD_xfhuj</td>\n",
       "      <td>remote got alexa echo control volume think rem...</td>\n",
       "      <td>0.657788</td>\n",
       "      <td>0.301691</td>\n",
       "      <td>0.040521</td>\n",
       "      <td>negative</td>\n",
       "    </tr>\n",
       "    <tr>\n",
       "      <th>1581</th>\n",
       "      <td>1593</td>\n",
       "      <td>AVpfo9ukilAPnD_xfhuj</td>\n",
       "      <td>change battery remote twice per month since pu...</td>\n",
       "      <td>0.534916</td>\n",
       "      <td>0.406103</td>\n",
       "      <td>0.058980</td>\n",
       "      <td>negative</td>\n",
       "    </tr>\n",
       "    <tr>\n",
       "      <th>1582</th>\n",
       "      <td>1594</td>\n",
       "      <td>AVpfo9ukilAPnD_xfhuj</td>\n",
       "      <td>remote activate connect box poorly designed re...</td>\n",
       "      <td>0.897394</td>\n",
       "      <td>0.096120</td>\n",
       "      <td>0.006485</td>\n",
       "      <td>negative</td>\n",
       "    </tr>\n",
       "    <tr>\n",
       "      <th>1583</th>\n",
       "      <td>1595</td>\n",
       "      <td>AVpfo9ukilAPnD_xfhuj</td>\n",
       "      <td>job super priced feel like offer replacement r...</td>\n",
       "      <td>0.364293</td>\n",
       "      <td>0.522149</td>\n",
       "      <td>0.113558</td>\n",
       "      <td>neutral</td>\n",
       "    </tr>\n",
       "    <tr>\n",
       "      <th>1584</th>\n",
       "      <td>1596</td>\n",
       "      <td>AVpfo9ukilAPnD_xfhuj</td>\n",
       "      <td>ordered item replace one longer work direction...</td>\n",
       "      <td>0.587064</td>\n",
       "      <td>0.363577</td>\n",
       "      <td>0.049359</td>\n",
       "      <td>negative</td>\n",
       "    </tr>\n",
       "  </tbody>\n",
       "</table>\n",
       "<p>1585 rows × 7 columns</p>\n",
       "</div>"
      ],
      "text/plain": [
       "      index                    id  \\\n",
       "0         0  AVpe7AsMilAPnD_xQ78G   \n",
       "1         1  AVpe7AsMilAPnD_xQ78G   \n",
       "2         2  AVpe7AsMilAPnD_xQ78G   \n",
       "3         3  AVpe7AsMilAPnD_xQ78G   \n",
       "4         4  AVpe7AsMilAPnD_xQ78G   \n",
       "...     ...                   ...   \n",
       "1580   1592  AVpfo9ukilAPnD_xfhuj   \n",
       "1581   1593  AVpfo9ukilAPnD_xfhuj   \n",
       "1582   1594  AVpfo9ukilAPnD_xfhuj   \n",
       "1583   1595  AVpfo9ukilAPnD_xfhuj   \n",
       "1584   1596  AVpfo9ukilAPnD_xfhuj   \n",
       "\n",
       "                                      processed_reviews       neg       neu  \\\n",
       "0     initially trouble deciding paperwhite voyage r...  0.038137  0.232028   \n",
       "1     allow preface little history casual reader own...  0.005306  0.061502   \n",
       "2     enjoying far great reading original fire since...  0.048410  0.124700   \n",
       "3     bought one first paperwhites pleased constant ...  0.024015  0.242741   \n",
       "4     say upfront like coroporate hermetically close...  0.086631  0.565330   \n",
       "...                                                 ...       ...       ...   \n",
       "1580  remote got alexa echo control volume think rem...  0.657788  0.301691   \n",
       "1581  change battery remote twice per month since pu...  0.534916  0.406103   \n",
       "1582  remote activate connect box poorly designed re...  0.897394  0.096120   \n",
       "1583  job super priced feel like offer replacement r...  0.364293  0.522149   \n",
       "1584  ordered item replace one longer work direction...  0.587064  0.363577   \n",
       "\n",
       "           pos     label  \n",
       "0     0.729835  positive  \n",
       "1     0.933192  positive  \n",
       "2     0.826890  positive  \n",
       "3     0.733244  positive  \n",
       "4     0.348039   neutral  \n",
       "...        ...       ...  \n",
       "1580  0.040521  negative  \n",
       "1581  0.058980  negative  \n",
       "1582  0.006485  negative  \n",
       "1583  0.113558   neutral  \n",
       "1584  0.049359  negative  \n",
       "\n",
       "[1585 rows x 7 columns]"
      ]
     },
     "execution_count": 337,
     "metadata": {},
     "output_type": "execute_result"
    }
   ],
   "source": [
    "results_df"
   ]
  },
  {
   "cell_type": "markdown",
   "id": "ca848e3b",
   "metadata": {},
   "source": [
    "# Train & Test Split"
   ]
  },
  {
   "cell_type": "code",
   "execution_count": 344,
   "id": "ffb30147",
   "metadata": {},
   "outputs": [],
   "source": [
    "from sklearn.model_selection import train_test_split\n",
    "from sklearn.feature_extraction.text import CountVectorizer\n",
    "from sklearn import metrics"
   ]
  },
  {
   "cell_type": "code",
   "execution_count": 338,
   "id": "1be9e3a2",
   "metadata": {},
   "outputs": [
    {
     "name": "stdout",
     "output_type": "stream",
     "text": [
      "Training Data : (1061,)\n",
      "Testing Data :  (524,)\n"
     ]
    }
   ],
   "source": [
    "X = results_df['processed_reviews']\n",
    "y = results_df['label']\n",
    "\n",
    "\n",
    "X_train, X_test, y_train, y_test = train_test_split(X, y, test_size=0.33, random_state=123)\n",
    "\n",
    "\n",
    "print('Training Data :', X_train.shape)\n",
    "\n",
    "print('Testing Data : ', X_test.shape)"
   ]
  },
  {
   "cell_type": "code",
   "execution_count": 339,
   "id": "56d122cd",
   "metadata": {},
   "outputs": [
    {
     "data": {
      "text/plain": [
       "(1061, 4422)"
      ]
     },
     "execution_count": 339,
     "metadata": {},
     "output_type": "execute_result"
    }
   ],
   "source": [
    "cv = CountVectorizer()\n",
    "\n",
    "X_train_cv = cv.fit_transform(X_train)\n",
    "X_train_cv.shape"
   ]
  },
  {
   "cell_type": "code",
   "execution_count": 340,
   "id": "0cb46235",
   "metadata": {},
   "outputs": [
    {
     "data": {
      "text/plain": [
       "array(['positive', 'positive', 'positive', 'positive', 'neutral',\n",
       "       'positive', 'positive', 'positive', 'positive', 'positive',\n",
       "       'positive', 'positive', 'positive', 'neutral', 'positive',\n",
       "       'positive', 'positive', 'positive', 'neutral', 'positive',\n",
       "       'positive', 'positive', 'neutral', 'neutral', 'neutral',\n",
       "       'positive', 'positive', 'neutral', 'positive', 'positive',\n",
       "       'positive', 'positive', 'positive', 'positive', 'positive',\n",
       "       'positive', 'positive', 'positive', 'positive', 'positive',\n",
       "       'negative', 'neutral', 'positive', 'positive', 'positive',\n",
       "       'neutral', 'positive', 'positive', 'neutral', 'positive',\n",
       "       'positive', 'neutral', 'positive', 'positive', 'positive',\n",
       "       'positive', 'positive', 'positive', 'neutral', 'neutral',\n",
       "       'positive', 'positive', 'positive', 'positive', 'positive',\n",
       "       'positive', 'positive', 'positive', 'positive', 'positive',\n",
       "       'neutral', 'neutral', 'positive', 'positive', 'neutral', 'neutral',\n",
       "       'neutral', 'neutral', 'positive', 'positive', 'positive',\n",
       "       'positive', 'positive', 'positive', 'positive', 'positive',\n",
       "       'positive', 'positive', 'positive', 'neutral', 'positive',\n",
       "       'positive', 'positive', 'positive', 'positive', 'positive',\n",
       "       'neutral', 'positive', 'positive', 'neutral', 'positive',\n",
       "       'neutral', 'positive', 'positive', 'positive', 'positive',\n",
       "       'positive', 'positive', 'positive', 'positive', 'positive',\n",
       "       'neutral', 'positive', 'positive', 'positive', 'positive',\n",
       "       'positive', 'positive', 'neutral', 'positive', 'positive',\n",
       "       'positive', 'positive', 'positive', 'positive', 'positive',\n",
       "       'positive', 'positive', 'negative', 'positive', 'positive',\n",
       "       'positive', 'neutral', 'positive', 'positive', 'positive',\n",
       "       'positive', 'positive', 'neutral', 'neutral', 'neutral',\n",
       "       'positive', 'positive', 'positive', 'neutral', 'neutral',\n",
       "       'positive', 'positive', 'positive', 'positive', 'positive',\n",
       "       'positive', 'positive', 'positive', 'positive', 'positive',\n",
       "       'positive', 'positive', 'positive', 'positive', 'positive',\n",
       "       'positive', 'positive', 'positive', 'positive', 'positive',\n",
       "       'positive', 'positive', 'positive', 'positive', 'positive',\n",
       "       'neutral', 'neutral', 'positive', 'neutral', 'positive',\n",
       "       'positive', 'positive', 'positive', 'positive', 'positive',\n",
       "       'positive', 'positive', 'neutral', 'neutral', 'positive',\n",
       "       'positive', 'positive', 'positive', 'positive', 'neutral',\n",
       "       'positive', 'neutral', 'positive', 'positive', 'positive',\n",
       "       'positive', 'positive', 'positive', 'neutral', 'positive',\n",
       "       'positive', 'neutral', 'neutral', 'positive', 'positive',\n",
       "       'positive', 'positive', 'positive', 'positive', 'neutral',\n",
       "       'positive', 'neutral', 'positive', 'positive', 'positive',\n",
       "       'positive', 'positive', 'positive', 'positive', 'positive',\n",
       "       'positive', 'positive', 'positive', 'positive', 'neutral',\n",
       "       'positive', 'neutral', 'positive', 'positive', 'positive',\n",
       "       'positive', 'positive', 'neutral', 'positive', 'neutral',\n",
       "       'positive', 'positive', 'positive', 'positive', 'positive',\n",
       "       'neutral', 'positive', 'positive', 'positive', 'positive',\n",
       "       'positive', 'neutral', 'positive', 'positive', 'positive',\n",
       "       'neutral', 'positive', 'positive', 'positive', 'positive',\n",
       "       'positive', 'positive', 'neutral', 'neutral', 'positive',\n",
       "       'positive', 'positive', 'neutral', 'positive', 'positive',\n",
       "       'positive', 'positive', 'positive', 'positive', 'positive',\n",
       "       'neutral', 'positive', 'positive', 'positive', 'positive',\n",
       "       'positive', 'positive', 'positive', 'positive', 'positive',\n",
       "       'positive', 'neutral', 'neutral', 'positive', 'positive',\n",
       "       'positive', 'positive', 'positive', 'positive', 'positive',\n",
       "       'positive', 'positive', 'positive', 'neutral', 'neutral',\n",
       "       'positive', 'positive', 'positive', 'positive', 'neutral',\n",
       "       'positive', 'positive', 'positive', 'positive', 'positive',\n",
       "       'positive', 'positive', 'positive', 'positive', 'positive',\n",
       "       'positive', 'positive', 'positive', 'neutral', 'neutral',\n",
       "       'neutral', 'neutral', 'positive', 'positive', 'positive',\n",
       "       'positive', 'positive', 'positive', 'neutral', 'neutral',\n",
       "       'neutral', 'neutral', 'positive', 'neutral', 'positive',\n",
       "       'positive', 'neutral', 'neutral', 'positive', 'positive',\n",
       "       'positive', 'positive', 'neutral', 'positive', 'neutral',\n",
       "       'positive', 'positive', 'positive', 'positive', 'positive',\n",
       "       'positive', 'positive', 'positive', 'positive', 'positive',\n",
       "       'positive', 'neutral', 'positive', 'positive', 'positive',\n",
       "       'positive', 'neutral', 'positive', 'positive', 'positive',\n",
       "       'positive', 'positive', 'positive', 'positive', 'neutral',\n",
       "       'positive', 'neutral', 'positive', 'neutral', 'positive',\n",
       "       'positive', 'positive', 'positive', 'positive', 'positive',\n",
       "       'positive', 'positive', 'positive', 'positive', 'positive',\n",
       "       'neutral', 'neutral', 'positive', 'positive', 'positive',\n",
       "       'positive', 'positive', 'positive', 'positive', 'positive',\n",
       "       'positive', 'neutral', 'positive', 'positive', 'positive',\n",
       "       'positive', 'positive', 'neutral', 'positive', 'positive',\n",
       "       'positive', 'neutral', 'neutral', 'neutral', 'neutral', 'positive',\n",
       "       'positive', 'positive', 'positive', 'positive', 'positive',\n",
       "       'neutral', 'positive', 'positive', 'positive', 'neutral',\n",
       "       'neutral', 'positive', 'positive', 'positive', 'positive',\n",
       "       'positive', 'positive', 'neutral', 'positive', 'positive',\n",
       "       'negative', 'positive', 'neutral', 'positive', 'neutral',\n",
       "       'positive', 'positive', 'positive', 'neutral', 'positive',\n",
       "       'positive', 'positive', 'positive', 'positive', 'positive',\n",
       "       'positive', 'positive', 'neutral', 'positive', 'neutral',\n",
       "       'positive', 'positive', 'positive', 'positive', 'positive',\n",
       "       'positive', 'positive', 'positive', 'positive', 'positive',\n",
       "       'positive', 'positive', 'neutral', 'positive', 'neutral',\n",
       "       'neutral', 'positive', 'positive', 'positive', 'neutral',\n",
       "       'positive', 'positive', 'positive', 'positive', 'positive',\n",
       "       'positive', 'positive', 'positive', 'positive', 'positive',\n",
       "       'positive', 'positive', 'positive', 'positive', 'neutral',\n",
       "       'positive', 'positive', 'neutral', 'positive', 'neutral',\n",
       "       'neutral', 'positive', 'positive', 'neutral', 'neutral',\n",
       "       'positive', 'positive', 'positive', 'positive', 'neutral',\n",
       "       'positive', 'positive', 'positive', 'positive', 'positive',\n",
       "       'positive', 'positive', 'positive', 'positive', 'positive',\n",
       "       'positive', 'positive', 'neutral', 'positive', 'positive',\n",
       "       'neutral', 'positive', 'positive', 'positive', 'neutral',\n",
       "       'positive', 'positive', 'positive', 'positive', 'positive',\n",
       "       'positive', 'neutral'], dtype=object)"
      ]
     },
     "execution_count": 340,
     "metadata": {},
     "output_type": "execute_result"
    }
   ],
   "source": [
    "from sklearn.linear_model import LogisticRegression\n",
    "\n",
    "lr = LogisticRegression()\n",
    "lr.fit(X_train_cv, y_train)\n",
    "X_test_cv = cv.transform(X_test)\n",
    "\n",
    "# Generate predictions\n",
    "predictions = lr.predict(X_test_cv)\n",
    "predictions"
   ]
  },
  {
   "cell_type": "code",
   "execution_count": 345,
   "id": "a2a5a014",
   "metadata": {},
   "outputs": [
    {
     "data": {
      "text/plain": [
       "0.8702290076335878"
      ]
     },
     "execution_count": 345,
     "metadata": {},
     "output_type": "execute_result"
    }
   ],
   "source": [
    "accuracy = metrics.accuracy_score(predictions, y_test)\n",
    "accuracy"
   ]
  },
  {
   "cell_type": "code",
   "execution_count": 346,
   "id": "c9ea340f",
   "metadata": {},
   "outputs": [
    {
     "data": {
      "text/html": [
       "<div>\n",
       "<style scoped>\n",
       "    .dataframe tbody tr th:only-of-type {\n",
       "        vertical-align: middle;\n",
       "    }\n",
       "\n",
       "    .dataframe tbody tr th {\n",
       "        vertical-align: top;\n",
       "    }\n",
       "\n",
       "    .dataframe thead th {\n",
       "        text-align: right;\n",
       "    }\n",
       "</style>\n",
       "<table border=\"1\" class=\"dataframe\">\n",
       "  <thead>\n",
       "    <tr style=\"text-align: right;\">\n",
       "      <th></th>\n",
       "      <th>predicted positive</th>\n",
       "      <th>predicted neutral</th>\n",
       "      <th>predicted negative</th>\n",
       "    </tr>\n",
       "  </thead>\n",
       "  <tbody>\n",
       "    <tr>\n",
       "      <th>positive</th>\n",
       "      <td>1</td>\n",
       "      <td>5</td>\n",
       "      <td>6</td>\n",
       "    </tr>\n",
       "    <tr>\n",
       "      <th>neutral</th>\n",
       "      <td>1</td>\n",
       "      <td>92</td>\n",
       "      <td>43</td>\n",
       "    </tr>\n",
       "    <tr>\n",
       "      <th>negative</th>\n",
       "      <td>1</td>\n",
       "      <td>12</td>\n",
       "      <td>363</td>\n",
       "    </tr>\n",
       "  </tbody>\n",
       "</table>\n",
       "</div>"
      ],
      "text/plain": [
       "          predicted positive  predicted neutral  predicted negative\n",
       "positive                   1                  5                   6\n",
       "neutral                    1                 92                  43\n",
       "negative                   1                 12                 363"
      ]
     },
     "execution_count": 346,
     "metadata": {},
     "output_type": "execute_result"
    }
   ],
   "source": [
    "df = pd.DataFrame(metrics.confusion_matrix(y_test,predictions), index=['positive','neutral', 'negative'], columns=['predicted positive','predicted neutral', 'predicted negative'])\n",
    "df"
   ]
  },
  {
   "cell_type": "code",
   "execution_count": 347,
   "id": "e54ac596",
   "metadata": {},
   "outputs": [
    {
     "name": "stdout",
     "output_type": "stream",
     "text": [
      "Accuracy: 0.4941972920696325\n",
      "Precision: 0.08333333333333333\n",
      "Recall: 0.001949317738791423\n",
      "F1 Score: 0.0038095238095238095\n"
     ]
    }
   ],
   "source": [
    "confusion_matrix = [[1, 5, 6],\n",
    "                    [1, 92, 43],\n",
    "                    [1, 12, 363]]\n",
    "\n",
    "# True Positives, False Positives, True Negatives, False Negatives\n",
    "TP = confusion_matrix[0][0]\n",
    "FP = sum(confusion_matrix[0][1:])\n",
    "TN = sum(confusion_matrix[1][1:]) + sum(confusion_matrix[2][1:])\n",
    "FN = sum(confusion_matrix[1][0:]) + sum(confusion_matrix[2][0:])\n",
    "\n",
    "accuracy = (TP + TN) / (TP + TN + FP + FN)\n",
    "\n",
    "precision = TP / (TP + FP)\n",
    "\n",
    "recall = TP / (TP + FN)\n",
    "\n",
    "f1_score = 2 * (precision * recall) / (precision + recall)\n",
    "\n",
    "print(\"Accuracy:\", accuracy)\n",
    "print(\"Precision:\", precision)\n",
    "print(\"Recall:\", recall)\n",
    "print(\"F1 Score:\", f1_score)"
   ]
  },
  {
   "cell_type": "code",
   "execution_count": null,
   "id": "e5ca41d4",
   "metadata": {},
   "outputs": [],
   "source": []
  }
 ],
 "metadata": {
  "kernelspec": {
   "display_name": "Python 3 (ipykernel)",
   "language": "python",
   "name": "python3"
  },
  "language_info": {
   "codemirror_mode": {
    "name": "ipython",
    "version": 3
   },
   "file_extension": ".py",
   "mimetype": "text/x-python",
   "name": "python",
   "nbconvert_exporter": "python",
   "pygments_lexer": "ipython3",
   "version": "3.11.4"
  }
 },
 "nbformat": 4,
 "nbformat_minor": 5
}
